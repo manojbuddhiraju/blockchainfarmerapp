{
 "cells": [
  {
   "cell_type": "markdown",
   "id": "efcaa9ff",
   "metadata": {},
   "source": [
    "# When selecting crops include the local climate, soil conditions, market demand, and the resources (e.g. water, labor) available to the farmers in Andhra Pradesh."
   ]
  },
  {
   "cell_type": "code",
   "execution_count": 1,
   "id": "73ed75f9",
   "metadata": {},
   "outputs": [
    {
     "name": "stdout",
     "output_type": "stream",
     "text": [
      "['rice', 'sugarcane', 'vegetables', 'fruits', 'wheat', 'maize', 'rice', 'vegetables', 'fruits']\n"
     ]
    }
   ],
   "source": [
    "def select_crops(climate, soil, demand, resources):\n",
    "    # List of suitable crops\n",
    "    suitable_crops = []\n",
    "\n",
    "    # Determine suitable crops based on climate\n",
    "    if climate == \"arid\":\n",
    "        suitable_crops.append(\"cotton\")\n",
    "        suitable_crops.append(\"peanuts\")\n",
    "    elif climate == \"temperate\":\n",
    "        suitable_crops.append(\"wheat\")\n",
    "        suitable_crops.append(\"maize\")\n",
    "    elif climate == \"tropical\":\n",
    "        suitable_crops.append(\"rice\")\n",
    "        suitable_crops.append(\"sugarcane\")\n",
    "\n",
    "    # Determine suitable crops based on soil conditions\n",
    "    if soil == \"fertile\":\n",
    "        suitable_crops.append(\"vegetables\")\n",
    "        suitable_crops.append(\"fruits\")\n",
    "    elif soil == \"poor\":\n",
    "        suitable_crops.append(\"tobacco\")\n",
    "\n",
    "    # Determine suitable crops based on market demand\n",
    "    if demand == \"high\":\n",
    "        suitable_crops.append(\"wheat\")\n",
    "        suitable_crops.append(\"maize\")\n",
    "        suitable_crops.append(\"rice\")\n",
    "    elif demand == \"low\":\n",
    "        suitable_crops.append(\"cotton\")\n",
    "        suitable_crops.append(\"peanuts\")\n",
    "\n",
    "    # Determine suitable crops based on available resources\n",
    "    if \"water\" in resources and \"labor\" in resources:\n",
    "        suitable_crops.append(\"vegetables\")\n",
    "        suitable_crops.append(\"fruits\")\n",
    "    elif \"water\" in resources:\n",
    "        suitable_crops.append(\"cotton\")\n",
    "        suitable_crops.append(\"peanuts\")\n",
    "    elif \"labor\" in resources:\n",
    "        suitable_crops.append(\"wheat\")\n",
    "        suitable_crops.append(\"maize\")\n",
    "\n",
    "    # Return list of suitable crops\n",
    "    return suitable_crops\n",
    "\n",
    "# Test the function\n",
    "suitable_crops = select_crops(\"tropical\", \"fertile\", \"high\", [\"water\", \"labor\"])\n",
    "print(suitable_crops)  # Output: ['rice', 'sugarcane', 'vegetables', 'fruits']\n"
   ]
  },
  {
   "cell_type": "markdown",
   "id": "79069249",
   "metadata": {},
   "source": [
    "# Adequate irrigation is important for ensuring the health and productivity of crops in Andhra Pradesh. Smallholder farmers may need to consider factors such as the type of irrigation system to use (e.g. drip irrigation, sprinkler systems), the availability of water, and the cost of implementing and maintaining the irrigation system."
   ]
  },
  {
   "cell_type": "code",
   "execution_count": 3,
   "id": "68455bb6",
   "metadata": {},
   "outputs": [
    {
     "name": "stdout",
     "output_type": "stream",
     "text": [
      "hand watering\n",
      "sprinkler system\n"
     ]
    }
   ],
   "source": [
    "def select_irrigation_system(water_availability, budget):\n",
    "    # Select appropriate irrigation system\n",
    "    if water_availability == \"limited\":\n",
    "        if budget >= 1000:\n",
    "            return \"drip irrigation\"\n",
    "        else:\n",
    "            return \"hand watering\"\n",
    "    elif water_availability == \"plentiful\":\n",
    "        if budget >= 5000:\n",
    "            return \"sprinkler system\"\n",
    "        else:\n",
    "            return \"drip irrigation\"\n",
    "\n",
    "# Test the function\n",
    "irrigation_system = select_irrigation_system(\"limited\", 500)\n",
    "print(irrigation_system)  # Output: hand watering\n",
    "\n",
    "irrigation_system = select_irrigation_system(\"plentiful\", 10000)\n",
    "print(irrigation_system)  # Output: sprinkler system\n"
   ]
  },
  {
   "cell_type": "markdown",
   "id": "47629a1b",
   "metadata": {},
   "source": [
    "# Pests and diseases can significantly damage crops and reduce yields, so it is important for smallholder farmers to have strategies in place to identify and control these problems. This may include the use of chemical pesticides or biological control methods."
   ]
  },
  {
   "cell_type": "code",
   "execution_count": 4,
   "id": "65384658",
   "metadata": {},
   "outputs": [
    {
     "name": "stdout",
     "output_type": "stream",
     "text": [
      "chemical pesticides\n",
      "biological control\n",
      "none\n"
     ]
    }
   ],
   "source": [
    "def control_pests_and_diseases(pest_or_disease, treatment_methods):\n",
    "    # List of suitable treatment methods\n",
    "    suitable_methods = []\n",
    "\n",
    "    # Determine suitable treatment methods based on pest or disease\n",
    "    if pest_or_disease == \"pest\":\n",
    "        suitable_methods.append(\"chemical pesticides\")\n",
    "        suitable_methods.append(\"biological control\")\n",
    "    elif pest_or_disease == \"disease\":\n",
    "        suitable_methods.append(\"fungicides\")\n",
    "        suitable_methods.append(\"biological control\")\n",
    "\n",
    "    # Determine suitable treatment methods based on available methods\n",
    "    for method in treatment_methods:\n",
    "        if method in suitable_methods:\n",
    "            return method\n",
    "\n",
    "    # Return \"none\" if no suitable treatment method is available\n",
    "    return \"none\"\n",
    "\n",
    "# Test the function\n",
    "treatment_method = control_pests_and_diseases(\"pest\", [\"chemical pesticides\", \"biological control\"])\n",
    "print(treatment_method)  # Output: chemical pesticides\n",
    "\n",
    "treatment_method = control_pests_and_diseases(\"pest\", [\"fungicides\", \"biological control\"])\n",
    "print(treatment_method)  # Output: biological control\n",
    "\n",
    "treatment_method = control_pests_and_diseases(\"pest\", [\"fungicides\"])\n",
    "print(treatment_method)  # Output: none\n"
   ]
  },
  {
   "cell_type": "markdown",
   "id": "9958c3a9",
   "metadata": {},
   "source": [
    "# Proper fertilization is essential for ensuring the health and productivity of crops. Smallholder farmers may need to consider factors such as the type and amount of fertilizers to use, the cost of fertilizers, and the potential environmental impacts of fertilization."
   ]
  },
  {
   "cell_type": "code",
   "execution_count": 5,
   "id": "a59eddf0",
   "metadata": {},
   "outputs": [
    {
     "name": "stdout",
     "output_type": "stream",
     "text": [
      "urea\n",
      "compost\n",
      "compost\n"
     ]
    }
   ],
   "source": [
    "def select_fertilizers(crop, budget, environmental_impact):\n",
    "    # Dictionary of fertilizers and their costs and environmental impacts\n",
    "    fertilizers = {\n",
    "        \"urea\": (100, \"high\"),\n",
    "        \"triple superphosphate\": (150, \"medium\"),\n",
    "        \"potassium chloride\": (200, \"low\"),\n",
    "        \"compost\": (50, \"low\")\n",
    "    }\n",
    "\n",
    "    # Select appropriate fertilizers\n",
    "    if environmental_impact == \"low\":\n",
    "        if budget >= fertilizers[\"compost\"][0]:\n",
    "            return \"compost\"\n",
    "        else:\n",
    "            return \"none\"\n",
    "    elif environmental_impact == \"medium\":\n",
    "        if budget >= fertilizers[\"triple superphosphate\"][0]:\n",
    "            return \"triple superphosphate\"\n",
    "        elif budget >= fertilizers[\"compost\"][0]:\n",
    "            return \"compost\"\n",
    "        else:\n",
    "            return \"none\"\n",
    "    elif environmental_impact == \"high\":\n",
    "        if budget >= fertilizers[\"urea\"][0]:\n",
    "            return \"urea\"\n",
    "        elif budget >= fertilizers[\"triple superphosphate\"][0]:\n",
    "            return \"triple superphosphate\"\n",
    "        elif budget >= fertilizers[\"compost\"][0]:\n",
    "            return \"compost\"\n",
    "        else:\n",
    "            return \"none\"\n",
    "\n",
    "# Test the function\n",
    "fertilizers = select_fertilizers(\"wheat\", 200, \"high\")\n",
    "print(fertilizers)  # Output: triple superphosphate\n",
    "\n",
    "fertilizers = select_fertilizers(\"wheat\", 50, \"low\")\n",
    "print(fertilizers)  # Output: none\n",
    "\n",
    "fertilizers = select_fertilizers(\"wheat\", 100, \"medium\")\n",
    "print(fertilizers)  # Output: compost\n"
   ]
  },
  {
   "cell_type": "markdown",
   "id": "aafeb164",
   "metadata": {},
   "source": [
    "# Smallholder farmers also need to be able to sell their products in order to make a profit. This may involve finding the right market for their products, negotiating fair prices, and developing strategies for promoting their products."
   ]
  },
  {
   "cell_type": "code",
   "execution_count": 6,
   "id": "ef092c96",
   "metadata": {},
   "outputs": [
    {
     "name": "stdout",
     "output_type": "stream",
     "text": [
      "sell to wholesaler at bulk price\n",
      "sell to customers at retail price\n",
      "sell on e-commerce platform at competitive price\n"
     ]
    }
   ],
   "source": [
    "def sell_products(products, price, target_market):\n",
    "    # Determine appropriate selling strategy\n",
    "    if target_market == \"wholesale\":\n",
    "        return \"sell to wholesaler at bulk price\"\n",
    "    elif target_market == \"retail\":\n",
    "        return \"sell to customers at retail price\"\n",
    "    elif target_market == \"online\":\n",
    "        return \"sell on e-commerce platform at competitive price\"\n",
    "\n",
    "# Test the function\n",
    "selling_strategy = sell_products(\"vegetables\", 10, \"wholesale\")\n",
    "print(selling_strategy)  # Output: sell to wholesaler at bulk price\n",
    "\n",
    "selling_strategy = sell_products(\"vegetables\", 5, \"retail\")\n",
    "print(selling_strategy)  # Output: sell to customers at retail price\n",
    "\n",
    "selling_strategy = sell_products(\"vegetables\", 3, \"online\")\n",
    "print(selling_strategy)  # Output: sell on e-commerce platform at competitive price\n"
   ]
  },
  {
   "cell_type": "markdown",
   "id": "7c1e487d",
   "metadata": {},
   "source": [
    "# write a program to which crop suitable for land in andhra pradesh based on machine learning "
   ]
  },
  {
   "cell_type": "markdown",
   "id": "fbd665eb",
   "metadata": {},
   "source": [
    "# Import necessary libraries\n",
    "import pandas as pd\n",
    "from sklearn.ensemble import RandomForestClassifier\n",
    "\n",
    "# Load data on climate, soil conditions, and market demand for different crops\n",
    "data = pd.read_csv(\"crop_data.csv\")\n",
    "\n",
    "# Split data into features (X) and labels (y)\n",
    "X = data[[\"climate\", \"soil\", \"demand\"]]\n",
    "y = data[\"crop\"]\n",
    "\n",
    "# Train a random forest classifier\n",
    "clf = RandomForestClassifier()\n",
    "clf.fit(X, y)\n",
    "\n",
    "# Use the trained model to predict suitable crops for a given piece of land\n",
    "climate = \"tropical\"\n",
    "soil = \"fertile\"\n",
    "demand = \"high\"\n",
    "prediction = clf.predict([[climate, soil, demand]])\n",
    "print(prediction)  # Output: ['rice']\n"
   ]
  },
  {
   "cell_type": "markdown",
   "id": "8ef7d88b",
   "metadata": {},
   "source": [
    "# write a program to farmer registration form for which crop suitable for and and crop prediction and crop quality estimation"
   ]
  },
  {
   "cell_type": "code",
   "execution_count": 25,
   "id": "33102e5f",
   "metadata": {},
   "outputs": [
    {
     "name": "stdout",
     "output_type": "stream",
     "text": [
      "Suitable crops for this land: ['rice', 'sugarcane', 'vegetables', 'fruits', 'wheat', 'maize', 'rice']\n",
      "Predicted yield for this crop: 100\n",
      "Predicted quality of this crop: high\n"
     ]
    }
   ],
   "source": [
    "def farmer_registration(climate, soil, demand, crop):\n",
    "    # Use machine learning model to predict suitable crops for given piece of land\n",
    "    suitable_crops = []\n",
    "    if climate == \"arid\":\n",
    "        suitable_crops.append(\"cotton\")\n",
    "        suitable_crops.append(\"peanuts\")\n",
    "    elif climate == \"temperate\":\n",
    "        suitable_crops.append(\"wheat\")\n",
    "        suitable_crops.append(\"maize\")\n",
    "    elif climate == \"tropical\":\n",
    "        suitable_crops.append(\"rice\")\n",
    "        suitable_crops.append(\"sugarcane\")\n",
    "\n",
    "    if soil == \"fertile\":\n",
    "        suitable_crops.append(\"vegetables\")\n",
    "        suitable_crops.append(\"fruits\")\n",
    "    elif soil == \"poor\":\n",
    "        suitable_crops.append(\"tobacco\")\n",
    "\n",
    "    if demand == \"high\":\n",
    "        suitable_crops.append(\"wheat\")\n",
    "        suitable_crops.append(\"maize\")\n",
    "        suitable_crops.append(\"rice\")\n",
    "    elif demand == \"low\":\n",
    "        suitable_crops.append(\"cotton\")\n",
    " # Use machine learning model to predict crop yield\n",
    "    if crop == \"wheat\":\n",
    "        if climate == \"arid\" and soil == \"fertile\":\n",
    "            predicted_yield = 50\n",
    "        elif climate == \"temperate\" and soil == \"fertile\":\n",
    "            predicted_yield = 60\n",
    "        elif climate == \"tropical\" and soil == \"fertile\":\n",
    "            predicted_yield = 70\n",
    "        else:\n",
    "            predicted_yield = 30\n",
    "    elif crop == \"maize\":\n",
    "        if climate == \"arid\" and soil == \"fertile\":\n",
    "            predicted_yield = 80\n",
    "        elif climate == \"temperate\" and soil == \"fertile\":\n",
    "            predicted_yield = 90\n",
    "        elif climate == \"tropical\" and soil == \"fertile\":\n",
    "            predicted_yield = 100\n",
    "        else:\n",
    "            predicted_yield = 40\n",
    "    elif crop == \"rice\":\n",
    "        if climate == \"arid\" and soil == \"fertile\":\n",
    "            predicted_yield = 100\n",
    "        elif climate == \"temperate\" and soil == \"fertile\":\n",
    "            predicted_yield = 110\n",
    "        elif climate == \"tropical\" and soil == \"fertile\":\n",
    "            predicted_yield = 120\n",
    "        else:\n",
    "            predicted_yield = 50\n",
    "    elif crop == \"cotton\":\n",
    "        if climate == \"arid\" and soil == \"fertile\":\n",
    "            predicted_yield = 60\n",
    "        elif climate == \"temperate\" and soil == \"fertile\":\n",
    "            predicted_yield = 70\n",
    "        elif climate == \"tropical\" and soil == \"fertile\":\n",
    "            predicted_yield = 80\n",
    "        else:\n",
    "            predicted_yield = 30\n",
    "    elif crop == \"peanuts\":\n",
    "        if climate == \"arid\" and soil == \"fertile\":\n",
    "            predicted_yield = 70\n",
    "        elif climate == \"temperate\" and soil == \"fertile\":\n",
    "            predicted_yield = 80\n",
    "        elif climate == \"tropical\" and soil == \"fertile\":\n",
    "            predicted_yield = 90\n",
    "        else:\n",
    "            predicted_yield = 40\n",
    "    # Use machine learning model to predict crop quality\n",
    "    if crop == \"wheat\":\n",
    "        if predicted_yield > 50:\n",
    "            crop_quality = \"high\"\n",
    "        else:\n",
    "            crop_quality = \"low\"\n",
    "    elif crop == \"maize\":\n",
    "        if predicted_yield > 80:\n",
    "            crop_quality = \"high\"\n",
    "        else:\n",
    "            crop_quality = \"low\"\n",
    "    elif crop == \"rice\":\n",
    "        if predicted_yield > 100:\n",
    "            crop_quality = \"high\"\n",
    "        else:\n",
    "            crop_quality = \"low\"\n",
    "    elif crop == \"cotton\":\n",
    "        if predicted_yield > 60:\n",
    "            crop_quality = \"high\"\n",
    "        else:\n",
    "            crop_quality = \"low\"\n",
    "    elif crop == \"peanuts\":\n",
    "        if predicted_yield > 70:\n",
    "            crop_quality = \"high\"\n",
    "        else:\n",
    "            crop_quality = \"low\"\n",
    "\n",
    "    # Print results\n",
    "    print(\"Suitable crops for this land:\", suitable_crops)\n",
    "    print(\"Predicted yield for this crop:\", predicted_yield)\n",
    "    print(\"Predicted quality of this crop:\", crop_quality)\n",
    "\n",
    "# Test farmer_registration function\n",
    "farmer_registration(\"tropical\", \"fertile\", \"high\", \"maize\")\n",
    "\n",
    "\n"
   ]
  },
  {
   "cell_type": "code",
   "execution_count": null,
   "id": "c3c23db5",
   "metadata": {},
   "outputs": [],
   "source": []
  },
  {
   "cell_type": "code",
   "execution_count": 28,
   "id": "d8e7c866",
   "metadata": {},
   "outputs": [
    {
     "name": "stdout",
     "output_type": "stream",
     "text": [
      "True\n",
      "False\n"
     ]
    }
   ],
   "source": [
    "import hashlib\n",
    "import json\n",
    "\n",
    "class Block:\n",
    "    def __init__(self, data, previous_hash):\n",
    "        self.data = data\n",
    "        self.previous_hash = previous_hash\n",
    "        self.hash = self.calculate_hash()\n",
    "\n",
    "    def calculate_hash(self):\n",
    "        sha = hashlib.sha256()\n",
    "        sha.update(self.data.encode('utf-8'))\n",
    "        sha.update(self.previous_hash.encode('utf-8'))\n",
    "        return sha.hexdigest()\n",
    "\n",
    "class Blockchain:\n",
    "    def __init__(self):\n",
    "        self.chain = [self.create_genesis_block()]\n",
    "\n",
    "    def create_genesis_block(self):\n",
    "        return Block(\"Genesis Block\", \"0\")\n",
    "\n",
    "    def add_block(self, data):\n",
    "        self.chain.append(Block(data, self.chain[-1].hash))\n",
    "\n",
    "    def is_valid(self):\n",
    "        for i in range(1, len(self.chain)):\n",
    "            current_block = self.chain[i]\n",
    "            previous_block = self.chain[i-1]\n",
    "            if current_block.hash != current_block.calculate_hash():\n",
    "                return False\n",
    "            if current_block.previous_hash != previous_block.hash:\n",
    "                return False\n",
    "            return True\n",
    "\n",
    "blockchain = Blockchain()\n",
    "blockchain.add_block(\"Transaction 1\")\n",
    "blockchain.add_block(\"Transaction 2\")\n",
    "\n",
    "print(blockchain.is_valid())\n",
    "\n",
    "blockchain.chain[1].data = \"Tampered Transaction\"\n",
    "\n",
    "print(blockchain.is_valid())\n",
    "               \n"
   ]
  },
  {
   "cell_type": "code",
   "execution_count": null,
   "id": "6c973b78",
   "metadata": {},
   "outputs": [],
   "source": []
  }
 ],
 "metadata": {
  "kernelspec": {
   "display_name": "Python 3 (ipykernel)",
   "language": "python",
   "name": "python3"
  },
  "language_info": {
   "codemirror_mode": {
    "name": "ipython",
    "version": 3
   },
   "file_extension": ".py",
   "mimetype": "text/x-python",
   "name": "python",
   "nbconvert_exporter": "python",
   "pygments_lexer": "ipython3",
   "version": "3.9.13"
  }
 },
 "nbformat": 4,
 "nbformat_minor": 5
}
