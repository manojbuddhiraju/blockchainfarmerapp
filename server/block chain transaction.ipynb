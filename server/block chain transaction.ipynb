{
 "cells": [
  {
   "cell_type": "code",
   "execution_count": 9,
   "id": "6694ab7a",
   "metadata": {},
   "outputs": [
    {
     "name": "stdout",
     "output_type": "stream",
     "text": [
      "Block 0: Genesis Block\n",
      "Block 1: Transaction 1: Farmer sells produce to Distributor\n",
      "Block 2: Transaction 2: Distributor sells produce to Retailer\n",
      "Block 3: Transaction 3: Retailer sells produce to Consumer\n"
     ]
    }
   ],
   "source": [
    "import hashlib\n",
    "import time\n",
    "\n",
    "class Block:\n",
    "    def __init__(self, timestamp, data, previous_hash):\n",
    "        self.timestamp = timestamp\n",
    "        self.data = data\n",
    "        self.previous_hash = previous_hash\n",
    "        self.hash = self.calc_hash()\n",
    "\n",
    "    def calc_hash(self):\n",
    "        sha = hashlib.sha256()\n",
    "        hash_str = f\"{self.timestamp}:{self.data}:{self.previous_hash}\"\n",
    "        sha.update(hash_str.encode('utf-8'))\n",
    "        return sha.hexdigest()\n",
    "\n",
    "class SupplyChain:\n",
    "    def __init__(self):\n",
    "        self.chain = [self.create_genesis_block()]\n",
    "\n",
    "    def create_genesis_block(self):\n",
    "        return Block(time.time(), \"Genesis Block\", \"0\")\n",
    "\n",
    "    def add_block(self, data):\n",
    "        previous_hash = self.chain[-1].hash\n",
    "        new_block = Block(time.time(), data, previous_hash)\n",
    "        self.chain.append(new_block)\n",
    "\n",
    "# create a peer-to-peer network\n",
    "peers = []\n",
    "\n",
    "# create a supply chain object\n",
    "sc = SupplyChain()\n",
    "\n",
    "# add some blocks to the chain\n",
    "sc.add_block(\"Transaction 1: Farmer sells produce to Distributor\")\n",
    "sc.add_block(\"Transaction 2: Distributor sells produce to Retailer\")\n",
    "sc.add_block(\"Transaction 3: Retailer sells produce to Consumer\")\n",
    "\n",
    "# print the contents of the chain\n",
    "for i, block in enumerate(sc.chain):\n",
    "    print(f\"Block {i}: {block.data}\")\n"
   ]
  },
  {
   "cell_type": "code",
   "execution_count": null,
   "id": "7eb06d08",
   "metadata": {},
   "outputs": [],
   "source": []
  },
  {
   "cell_type": "code",
   "execution_count": null,
   "id": "c774160c",
   "metadata": {},
   "outputs": [],
   "source": []
  }
 ],
 "metadata": {
  "kernelspec": {
   "display_name": "Python 3 (ipykernel)",
   "language": "python",
   "name": "python3"
  },
  "language_info": {
   "codemirror_mode": {
    "name": "ipython",
    "version": 3
   },
   "file_extension": ".py",
   "mimetype": "text/x-python",
   "name": "python",
   "nbconvert_exporter": "python",
   "pygments_lexer": "ipython3",
   "version": "3.9.13"
  }
 },
 "nbformat": 4,
 "nbformat_minor": 5
}
