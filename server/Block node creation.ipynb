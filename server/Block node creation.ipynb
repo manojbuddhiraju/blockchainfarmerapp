{
 "cells": [
  {
   "cell_type": "code",
   "execution_count": 1,
   "id": "fbc4ade1",
   "metadata": {},
   "outputs": [
    {
     "name": "stdout",
     "output_type": "stream",
     "text": [
      "Timestamp: 2023-01-06 15:24:19.716361\n",
      "Data: Genesis Block\n",
      "Previous Hash: 0\n",
      "Hash: 1dcc7223de267c42e8ca56c00a20fb28e8d959da98e6607d7755376ad81612f1\n",
      "\n",
      "Timestamp: 2023-01-06 15:24:19.716361\n",
      "Data: Farmer Name: srikanth\n",
      "Previous Hash: 1dcc7223de267c42e8ca56c00a20fb28e8d959da98e6607d7755376ad81612f1\n",
      "Hash: d311efc3529b2fc65474a90be06f3a0e04864356cd8f86885402dd4050eb0e8c\n",
      "\n",
      "Timestamp: 2023-01-06 15:24:19.716361\n",
      "Data: Farmer Address: 32-5-2, palakol,west godavari,AP\n",
      "Previous Hash: d311efc3529b2fc65474a90be06f3a0e04864356cd8f86885402dd4050eb0e8c\n",
      "Hash: 3680feda044a012b018351bcd0c9a25219a1c8888028456afb3fa9f48db41526\n",
      "\n",
      "Timestamp: 2023-01-06 15:24:19.716361\n",
      "Data: Suitable Soil: Clay\n",
      "Previous Hash: 3680feda044a012b018351bcd0c9a25219a1c8888028456afb3fa9f48db41526\n",
      "Hash: 61234c3f8e7bcc1d2ea5dfa79723124af6804b30ca6628ab54a2f68e5adea623\n",
      "\n",
      "Timestamp: 2023-01-06 15:24:19.716361\n",
      "Data: Suitable Crop: Wheat\n",
      "Previous Hash: 61234c3f8e7bcc1d2ea5dfa79723124af6804b30ca6628ab54a2f68e5adea623\n",
      "Hash: 1360054786e427f960204ea99c2779c5347b491784a8d2f27ea230bd9115e8ea\n",
      "\n"
     ]
    }
   ],
   "source": [
    "# Import necessary modules\n",
    "import hashlib\n",
    "import datetime\n",
    "\n",
    "class Block:\n",
    "  def __init__(self, data, previous_hash):\n",
    "    self.timestamp = datetime.datetime.now()\n",
    "    self.data = data\n",
    "    self.previous_hash = previous_hash\n",
    "    self.hash = self.calculate_hash()\n",
    "\n",
    "  def calculate_hash(self):\n",
    "    sha = hashlib.sha256()\n",
    "    sha.update(str(self.timestamp).encode('utf-8') +\n",
    "               str(self.data).encode('utf-8') +\n",
    "               str(self.previous_hash).encode('utf-8'))\n",
    "    return sha.hexdigest()\n",
    "\n",
    "class BlockChain:\n",
    "  def __init__(self):\n",
    "    self.chain = [self.create_genesis_block()]\n",
    "\n",
    "  def create_genesis_block(self):\n",
    "    return Block('Genesis Block', '0')\n",
    "\n",
    "  def get_previous_block(self):\n",
    "    return self.chain[-1]\n",
    "\n",
    "  def add_block(self, new_block):\n",
    "    new_block.previous_hash = self.get_previous_block().hash\n",
    "    new_block.hash = new_block.calculate_hash()\n",
    "    self.chain.append(new_block)\n",
    "\n",
    "# Create a blockchain\n",
    "blockchain = BlockChain()\n",
    "\n",
    "# Create and add blocks to the chain\n",
    "blockchain.add_block(Block(\"Farmer Name: srikanth\", blockchain.get_previous_block().hash))\n",
    "blockchain.add_block(Block(\"Farmer Address: 32-5-2, palakol,west godavari,AP\", blockchain.get_previous_block().hash))\n",
    "blockchain.add_block(Block(\"Suitable Soil: Clay\", blockchain.get_previous_block().hash))\n",
    "blockchain.add_block(Block(\"Suitable Crop: Wheat\", blockchain.get_previous_block().hash))\n",
    "\n",
    "# Print the blockchain\n",
    "for block in blockchain.chain:\n",
    "  print(f\"Timestamp: {block.timestamp}\")\n",
    "  print(f\"Data: {block.data}\")\n",
    "  print(f\"Previous Hash: {block.previous_hash}\")\n",
    "  print(f\"Hash: {block.hash}\\n\")\n"
   ]
  },
  {
   "cell_type": "code",
   "execution_count": null,
   "id": "96a33b81",
   "metadata": {},
   "outputs": [],
   "source": []
  }
 ],
 "metadata": {
  "kernelspec": {
   "display_name": "Python 3 (ipykernel)",
   "language": "python",
   "name": "python3"
  },
  "language_info": {
   "codemirror_mode": {
    "name": "ipython",
    "version": 3
   },
   "file_extension": ".py",
   "mimetype": "text/x-python",
   "name": "python",
   "nbconvert_exporter": "python",
   "pygments_lexer": "ipython3",
   "version": "3.9.13"
  }
 },
 "nbformat": 4,
 "nbformat_minor": 5
}
