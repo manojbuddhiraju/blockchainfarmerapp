{
 "cells": [
  {
   "cell_type": "code",
   "execution_count": 1,
   "id": "64f91e42",
   "metadata": {},
   "outputs": [
    {
     "name": "stdout",
     "output_type": "stream",
     "text": [
      "Requirement already satisfied: mysql-connector-python in c:\\users\\srikanth.mandela\\anaconda3\\lib\\site-packages (8.0.31)\n",
      "Requirement already satisfied: protobuf<=3.20.1,>=3.11.0 in c:\\users\\srikanth.mandela\\anaconda3\\lib\\site-packages (from mysql-connector-python) (3.19.6)\n",
      "Note: you may need to restart the kernel to use updated packages.\n"
     ]
    }
   ],
   "source": [
    "pip install mysql-connector-python"
   ]
  },
  {
   "cell_type": "code",
   "execution_count": 2,
   "id": "4ec833e3",
   "metadata": {},
   "outputs": [],
   "source": [
    "import mysql.connector"
   ]
  },
  {
   "cell_type": "code",
   "execution_count": 3,
   "id": "2d5d9c11",
   "metadata": {},
   "outputs": [],
   "source": [
    "# Database connection parameters\n",
    "host = 'actual_host_name_or_ip'\n",
    "user = 'your_username'\n",
    "password = 'your_password'\n",
    "database = 'your_database'"
   ]
  },
  {
   "cell_type": "code",
   "execution_count": 4,
   "id": "54f1b818",
   "metadata": {},
   "outputs": [
    {
     "name": "stdout",
     "output_type": "stream",
     "text": [
      "Error connecting to the database: 2005 (HY000): Unknown MySQL server host 'actual_host_name_or_ip' (11001)\n"
     ]
    }
   ],
   "source": [
    "# Establish a database connection\n",
    "try:\n",
    "    connection = mysql.connector.connect(\n",
    "        host=host,\n",
    "        user=user,\n",
    "        password=password,\n",
    "        database=database\n",
    "    )\n",
    "    print(\"Database connection successful!\")\n",
    "except mysql.connector.Error as error:\n",
    "    print(\"Error connecting to the database:\", error)\n"
   ]
  },
  {
   "cell_type": "code",
   "execution_count": null,
   "id": "baa7ca93",
   "metadata": {},
   "outputs": [
    {
     "name": "stdout",
     "output_type": "stream",
     "text": [
      "\n",
      "==== MENU ====\n",
      "1. Submit Farmer Details\n",
      "2. Print Block Details\n",
      "3. Print Transaction Details\n",
      "4. Approve Details\n",
      "5. Create Payment\n",
      "6. Create Loan\n",
      "0. Exit\n",
      "Enter your choice: 1\n",
      "Farmer ID: srik1201\n",
      "Farmer Name: srikanth\n",
      "Location: bvrm\n",
      "Crop Name: rice\n",
      "Phone: 8686866306\n",
      "Quantity: 12\n",
      "Expected Price: 1000\n",
      "\n",
      "==== MENU ====\n",
      "1. Submit Farmer Details\n",
      "2. Print Block Details\n",
      "3. Print Transaction Details\n",
      "4. Approve Details\n",
      "5. Create Payment\n",
      "6. Create Loan\n",
      "0. Exit\n"
     ]
    }
   ],
   "source": [
    "# Import necessary libraries\n",
    "\n",
    "# Define classes and data structures\n",
    "\n",
    "class Farmer:\n",
    "    def __init__(self, farmer_id, farmer_name, location, crop, phone, quantity, expected_price):\n",
    "        self.farmer_id = farmer_id\n",
    "        self.farmer_name = farmer_name\n",
    "        self.location = location\n",
    "        self.crop = crop\n",
    "        self.phone = phone\n",
    "        self.quantity = quantity\n",
    "        self.expected_price = expected_price\n",
    "\n",
    "class QualityTesting:\n",
    "    def __init__(self, farmer, block_number):\n",
    "        self.farmer = farmer\n",
    "        self.block_number = block_number\n",
    "\n",
    "class Customer:\n",
    "    def __init__(self, farmer_id, lot_number, grade, price, status):\n",
    "        self.farmer_id = farmer_id\n",
    "        self.lot_number = lot_number\n",
    "        self.grade = grade\n",
    "        self.price = price\n",
    "        self.status = status\n",
    "\n",
    "class Transaction:\n",
    "    def __init__(self, farmer_id, loan_id, loan_amount, interest_rate, loan_status):\n",
    "        self.farmer_id = farmer_id\n",
    "        self.loan_id = loan_id\n",
    "        self.loan_amount = loan_amount\n",
    "        self.interest_rate = interest_rate\n",
    "        self.loan_status = loan_status\n",
    "\n",
    "# Implement functions for different actions\n",
    "\n",
    "def submit_farmer_details():\n",
    "    farmer_id = input(\"Farmer ID: \")\n",
    "    farmer_name = input(\"Farmer Name: \")\n",
    "    location = input(\"Location: \")\n",
    "    crop = input(\"Crop Name: \")\n",
    "    phone = input(\"Phone: \")\n",
    "    quantity = input(\"Quantity: \")\n",
    "    expected_price = input(\"Expected Price: \")\n",
    "\n",
    "    # Create Farmer object and store the details in a database or data structure\n",
    "\n",
    "def print_block_details():\n",
    "    block_number = input(\"Block Number: \")\n",
    "\n",
    "    # Fetch and print the details of the Quality Testing associated with the given block number\n",
    "\n",
    "def print_transaction_details():\n",
    "    farmer_id = input(\"Farmer ID: \")\n",
    "\n",
    "    # Fetch and print the details of the Transaction associated with the given farmer ID\n",
    "\n",
    "def approve_details():\n",
    "    farmer_id = input(\"Farmer ID: \")\n",
    "    lot_number = input(\"Lot Number: \")\n",
    "\n",
    "    # Create a Customer object with the provided details and store it in a database or data structure\n",
    "\n",
    "def create_payment():\n",
    "    farmer_id = input(\"Farmer ID: \")\n",
    "\n",
    "    # Fetch the required details and create a payment for the farmer\n",
    "\n",
    "def create_loan():\n",
    "    farmer_id = input(\"Farmer ID: \")\n",
    "\n",
    "    # Fetch the required details and create a loan for the farmer\n",
    "\n",
    "# Implement the main program flow\n",
    "\n",
    "while True:\n",
    "    print(\"\\n==== MENU ====\")\n",
    "    print(\"1. Submit Farmer Details\")\n",
    "    print(\"2. Print Block Details\")\n",
    "    print(\"3. Print Transaction Details\")\n",
    "    print(\"4. Approve Details\")\n",
    "    print(\"5. Create Payment\")\n",
    "    print(\"6. Create Loan\")\n",
    "    print(\"0. Exit\")\n",
    "    choice = input(\"Enter your choice: \")\n",
    "\n",
    "    if choice == \"1\":\n",
    "        submit_farmer_details()\n",
    "    elif choice == \"2\":\n",
    "        print_block_details()\n",
    "    elif choice == \"3\":\n",
    "        print_transaction_details()\n",
    "    elif choice == \"4\":\n",
    "        approve_details()\n",
    "    elif choice == \"5\":\n",
    "        create_payment()\n",
    "    elif choice == \"6\":\n",
    "        create_loan()\n",
    "    elif choice == \"0\":\n",
    "        break\n",
    "    else:\n",
    "        print(\"Invalid choice. Please try again.\")\n",
    "\n",
    "print(\"Exiting the program...\")\n"
   ]
  },
  {
   "cell_type": "code",
   "execution_count": null,
   "id": "21b46510",
   "metadata": {},
   "outputs": [],
   "source": []
  },
  {
   "cell_type": "code",
   "execution_count": null,
   "id": "28b7c923",
   "metadata": {},
   "outputs": [],
   "source": []
  }
 ],
 "metadata": {
  "kernelspec": {
   "display_name": "Python 3 (ipykernel)",
   "language": "python",
   "name": "python3"
  },
  "language_info": {
   "codemirror_mode": {
    "name": "ipython",
    "version": 3
   },
   "file_extension": ".py",
   "mimetype": "text/x-python",
   "name": "python",
   "nbconvert_exporter": "python",
   "pygments_lexer": "ipython3",
   "version": "3.9.13"
  }
 },
 "nbformat": 4,
 "nbformat_minor": 5
}
